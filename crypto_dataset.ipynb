{
  "cells": [
    {
      "cell_type": "code",
      "execution_count": null,
      "metadata": {
        "id": "yFpagbMVezPg"
      },
      "outputs": [],
      "source": [
        "# %pip install"
      ]
    },
    {
      "cell_type": "code",
      "execution_count": 2,
      "metadata": {
        "id": "PakQtOPgezPl"
      },
      "outputs": [],
      "source": [
        "import csv\n",
        "import requests\n",
        "import time\n",
        "import time\n",
        "import pandas as pd\n",
        "# from dotenv import load_dotenv\n",
        "# import os\n",
        "from googlesearch import search\n",
        "import re\n",
        "import json\n",
        "import nltk\n",
        "from nltk.corpus import stopwords"
      ]
    },
    {
      "cell_type": "markdown",
      "metadata": {
        "id": "l3Gxo1aQezPo"
      },
      "source": [
        "#### FETCH LEGITIMATE URLS DATA"
      ]
    },
    {
      "cell_type": "code",
      "execution_count": 33,
      "metadata": {
        "id": "W8I4krKuezPt"
      },
      "outputs": [],
      "source": [
        "def fetch_from_coingecko(url):\n",
        "    page = 1\n",
        "    all_exchanges = []\n",
        "\n",
        "    while True:\n",
        "        # Add the page parameter to the request\n",
        "        params = {\"per_page\": 300, \"page\": page}\n",
        "\n",
        "        try:\n",
        "            # Make the request\n",
        "            response = requests.get(url, params=params)\n",
        "\n",
        "            # Check if the request was successful\n",
        "            if response.status_code == 200:\n",
        "                data = response.json()\n",
        "                # If no data is returned, stop the loop\n",
        "                if not data:\n",
        "                    break\n",
        "                # Add the fetched data to the list\n",
        "                all_exchanges.extend(data)\n",
        "                print(f\"Fetched page {page} with {len(data)} exchanges.\")\n",
        "                # Move to the next page\n",
        "                page += 1\n",
        "                # Add a delay to avoid hitting the rate limit\n",
        "                time.sleep(1)\n",
        "\n",
        "            elif response.status_code == 429:\n",
        "                # Handle rate limit error\n",
        "                print(\"Rate limit exceeded. Waiting for 60 seconds before retrying...\")\n",
        "                time.sleep(60)  # Wait 60 seconds before retrying\n",
        "\n",
        "            else:\n",
        "                # Handle other errors\n",
        "                print(f\"Failed to fetch data. Status code: {response.status_code}. Reason: {response.reason}\")\n",
        "                break\n",
        "\n",
        "        except requests.exceptions.RequestException as e:\n",
        "            # Handle network errors\n",
        "            print(f\"Network error: {e}\")\n",
        "            break\n",
        "\n",
        "    return all_exchanges\n",
        "\n",
        "# Function to fetch market data (coins list)\n",
        "def fetch_coin_market_data(url):\n",
        "    page = 1\n",
        "    all_coins = []\n",
        "\n",
        "\n",
        "    while True:\n",
        "      params = {'vs_currency': 'usd', 'order': 'market_cap_desc', 'per_page': 250, 'page': page, 'x_cg_demo_api_key': \"CG-Y7Gt7HP5cmaK74WbKKbhh7dZ\"}\n",
        "\n",
        "      try:\n",
        "          response = requests.get(url, params=params)\n",
        "\n",
        "          if response.status_code == 200:\n",
        "                data = response.json()\n",
        "                # If no data is returned, stop the loop\n",
        "                if not data:\n",
        "                    break\n",
        "                # Add the fetched data to the list\n",
        "                all_coins.extend(data)\n",
        "                print(f\"Fetched page {page} with {len(data)} exchanges.\")\n",
        "                # Move to the next page\n",
        "                page += 1\n",
        "                # Add a delay to avoid hitting the rate limit\n",
        "                time.sleep(1)\n",
        "\n",
        "          elif response.status_code == 429:\n",
        "                # Handle rate limit error\n",
        "                print(\"Rate limit exceeded. Waiting for 60 seconds before retrying...\")\n",
        "                time.sleep(60)  # Wait 60 seconds before retrying\n",
        "\n",
        "          else:\n",
        "                # Handle other errors\n",
        "                print(f\"Failed to fetch data. Status code: {response.status_code}. Reason: {response.reason}\")\n",
        "                break\n",
        "\n",
        "      except requests.exceptions.RequestException as e:\n",
        "            # Handle network errors\n",
        "            print(f\"Network error: {e}\")\n",
        "            break\n",
        "\n",
        "    return all_coins\n",
        "\n",
        "\n",
        "# Function to fetch coin details by coin ID\n",
        "def fetch_coin_details(coin_id):\n",
        "    while True:\n",
        "          details_url = f'https://api.coingecko.com/api/v3/coins/{coin_id}'\n",
        "          details_response = requests.get(details_url, headers={'x_cg_demo_api_key': \"CG-Y7Gt7HP5cmaK74WbKKbhh7dZ\"})\n",
        "\n",
        "          if details_response.status_code == 200:\n",
        "              coin_details = details_response.json()\n",
        "              homepage_list = coin_details.get('links', {}).get('homepage', [])\n",
        "              homepage_url = homepage_list[0] if homepage_list else 'N/A'\n",
        "              print(f\"Fetched details for coin {coin_id}: {homepage_url}\")\n",
        "              # Add a delay to avoid hitting the rate limit\n",
        "              time.sleep(1)\n",
        "\n",
        "              return homepage_url\n",
        "\n",
        "          elif details_response.status_code == 429:\n",
        "              print(\"Rate limit exceeded, waiting for 60 seconds before retrying...\")\n",
        "              time.sleep(60)\n",
        "\n",
        "          else:\n",
        "              print(f\"Failed to fetch details for coin {coin_id}. Status code: {details_response.status_code}\")\n",
        "              return 'N/A'\n",
        "\n",
        "# Function to fetch exchanges from DeFi Llama\n",
        "def fetch_from_other_source(url):\n",
        "    # Make the request\n",
        "    response = requests.get(url)\n",
        "    if response.status_code == 200:\n",
        "        # Return the JSON data\n",
        "        return response.json()\n",
        "    else:\n",
        "        print(f\"Failed to fetch data. Status code: {response.status_code}. Reason: {response.reason}\")\n",
        "\n",
        "        return []\n"
      ]
    },
    {
      "cell_type": "code",
      "execution_count": 34,
      "metadata": {
        "id": "GA6qS4bcezPv"
      },
      "outputs": [],
      "source": [
        "# # function to convert to dictionary\n",
        "# def convert_to_dict(items):\n",
        "#     # Create a list to store the name-url mappings\n",
        "#     dict_list = []\n",
        "\n",
        "#     # Process each URL in the list\n",
        "#     for url in items:\n",
        "#         # Extract the text before the domain extension\n",
        "#         name = url.split('.')[0]\n",
        "#         # Create a dictionary for the name and URL\n",
        "#         dict_list.append({'name': name, 'url': url})\n",
        "\n",
        "#     return dict_list\n",
        "\n",
        "# # function to get the format a domain to URL\n",
        "# def format_domain(domain):\n",
        "#     if not domain.startswith(('https://', 'http://', 'www.')):\n",
        "#         return 'https://' + domain\n",
        "#     return domain"
      ]
    },
    {
      "cell_type": "code",
      "execution_count": 35,
      "metadata": {
        "id": "MZvTtVSEezPw"
      },
      "outputs": [],
      "source": [
        "crypto_data_urls = []"
      ]
    },
    {
      "cell_type": "code",
      "execution_count": 36,
      "metadata": {
        "id": "8f-9Oj3WezPw"
      },
      "outputs": [],
      "source": [
        "# # fetch centralized exchanges from coingecko\n",
        "# cex_url = \"https://api.coingecko.com/api/v3/exchanges\"\n",
        "# gecko_data = fetch_from_coingecko(cex_url)\n",
        "\n",
        "# for exchange in gecko_data:\n",
        "#     # Extract the name from the exchange data\n",
        "#     url = exchange['url']\n",
        "\n",
        "#     # Append the name to the list\n",
        "#     crypto_data_urls.append(url)\n",
        "\n",
        "# # Print the total number of exchanges fetched\n",
        "# print(f\"Total exchanges fetched: {len(gecko_data)}, {gecko_data[0]}\")"
      ]
    },
    {
      "cell_type": "code",
      "source": [
        "# # fetch centralized exchanges from coingecko\n",
        "# gecko_coin_url = 'https://api.coingecko.com/api/v3/coins/markets'\n",
        "# gecko_coin_data = fetch_coin_market_data(gecko_coin_url)\n",
        "\n",
        "# for exchange in gecko_coin_data:\n",
        "#     # Extract the name from the exchange data\n",
        "#     url = fetch_coin_details(exchange[\"id\"])\n",
        "#     # print(url)\n",
        "#     # Append the name to the list\n",
        "#     crypto_data_urls.append(url)\n",
        "\n",
        "# # Print the total number of exchanges fetched\n",
        "# print(f\"Total exchanges fetched: {len(gecko_coin_data)}, {gecko_coin_data[0]}\")"
      ],
      "metadata": {
        "id": "nUqjhPkeEdZ0"
      },
      "execution_count": 37,
      "outputs": []
    },
    {
      "cell_type": "code",
      "execution_count": null,
      "metadata": {
        "id": "x6iQu5CoezPz"
      },
      "outputs": [],
      "source": [
        "pap_exchanges = fetch_from_other_source(\"https://api.coinpaprika.com/v1/exchanges\")\n",
        "\n",
        "for exchange in pap_exchanges:\n",
        "    if exchange['links'] and exchange['links'].get('website'):\n",
        "        url = exchange['links']['website'][0]\n",
        "    else:\n",
        "        url = None\n",
        "\n",
        "# Print the total number of exchanges fetched\n",
        "print(f\"Total exchanges fetched: {len(pap_exchanges)}, {pap_exchanges[0]}\")"
      ]
    },
    {
      "cell_type": "code",
      "source": [
        "pap_listings = fetch_from_other_source(\"https://api.coinpaprika.com/v1/coins\")\n",
        "\n",
        "# Print the total number of exchanges fetched\n",
        "print(f\"Total exchanges fetched: {len(pap_listings)}, {pap_listings[0]}\")"
      ],
      "metadata": {
        "colab": {
          "base_uri": "https://localhost:8080/"
        },
        "id": "AkRncTUq6tT6",
        "outputId": "752c0899-9926-47d4-b48b-9280e0cd2f39"
      },
      "execution_count": 17,
      "outputs": [
        {
          "output_type": "stream",
          "name": "stdout",
          "text": [
            "Total exchanges fetched: 73561, {'id': 'btc-bitcoin', 'name': 'Bitcoin', 'symbol': 'BTC', 'rank': 1, 'is_new': False, 'is_active': True, 'type': 'coin'}\n"
          ]
        }
      ]
    },
    {
      "cell_type": "code",
      "source": [
        "# pap_listings_df = pd.DataFrame(pap_listings)\n",
        "# pap_listings_df.to_json('pap_listings.json', orient='records', lines=False)\n",
        "\n",
        "# from google.colab import files\n",
        "# files.download('pap_listings.json')"
      ],
      "metadata": {
        "colab": {
          "base_uri": "https://localhost:8080/",
          "height": 17
        },
        "id": "CExMD98vBN3Y",
        "outputId": "3240d296-0994-48ed-b22e-9b3e0fa51e32"
      },
      "execution_count": 42,
      "outputs": [
        {
          "output_type": "display_data",
          "data": {
            "text/plain": [
              "<IPython.core.display.Javascript object>"
            ],
            "application/javascript": [
              "\n",
              "    async function download(id, filename, size) {\n",
              "      if (!google.colab.kernel.accessAllowed) {\n",
              "        return;\n",
              "      }\n",
              "      const div = document.createElement('div');\n",
              "      const label = document.createElement('label');\n",
              "      label.textContent = `Downloading \"${filename}\": `;\n",
              "      div.appendChild(label);\n",
              "      const progress = document.createElement('progress');\n",
              "      progress.max = size;\n",
              "      div.appendChild(progress);\n",
              "      document.body.appendChild(div);\n",
              "\n",
              "      const buffers = [];\n",
              "      let downloaded = 0;\n",
              "\n",
              "      const channel = await google.colab.kernel.comms.open(id);\n",
              "      // Send a message to notify the kernel that we're ready.\n",
              "      channel.send({})\n",
              "\n",
              "      for await (const message of channel.messages) {\n",
              "        // Send a message to notify the kernel that we're ready.\n",
              "        channel.send({})\n",
              "        if (message.buffers) {\n",
              "          for (const buffer of message.buffers) {\n",
              "            buffers.push(buffer);\n",
              "            downloaded += buffer.byteLength;\n",
              "            progress.value = downloaded;\n",
              "          }\n",
              "        }\n",
              "      }\n",
              "      const blob = new Blob(buffers, {type: 'application/binary'});\n",
              "      const a = document.createElement('a');\n",
              "      a.href = window.URL.createObjectURL(blob);\n",
              "      a.download = filename;\n",
              "      div.appendChild(a);\n",
              "      a.click();\n",
              "      div.remove();\n",
              "    }\n",
              "  "
            ]
          },
          "metadata": {}
        },
        {
          "output_type": "display_data",
          "data": {
            "text/plain": [
              "<IPython.core.display.Javascript object>"
            ],
            "application/javascript": [
              "download(\"download_d4a67591-13ec-4c0c-85ae-b64ee0b7168c\", \"pap_listings.json\", 8902390)"
            ]
          },
          "metadata": {}
        }
      ]
    },
    {
      "cell_type": "code",
      "source": [
        "def fetch_listing_details(id):\n",
        "  listing_url = fetch_from_other_source(f\"https://api.coinpaprika.com/v1/coins/{id}\")\n",
        "  if not listing_url:\n",
        "    return ''\n",
        "  website_list = listing_url['links'].get('website', [])\n",
        "  website_url = website_list[0] if website_list else ''\n",
        "\n",
        "  return website_url"
      ],
      "metadata": {
        "id": "kMhGkFDs8dI0"
      },
      "execution_count": 32,
      "outputs": []
    },
    {
      "cell_type": "code",
      "source": [
        "for listings in pap_listings:\n",
        "    # Extract the name from the exchange data\n",
        "    url = fetch_listing_details(listings[\"id\"])\n",
        "    print(url)\n",
        "    # Append the name to the list\n",
        "    # crypto_data_urls.append(url)"
      ],
      "metadata": {
        "id": "zJVmovrL7acM"
      },
      "execution_count": null,
      "outputs": []
    },
    {
      "cell_type": "code",
      "execution_count": null,
      "metadata": {
        "id": "DzPB_KAUezP2"
      },
      "outputs": [],
      "source": [
        " # fetch every exchange protocol from defi llama\n",
        "# /chains\n",
        "llama_url = \"https://api.llama.fi/protocols\"\n",
        "llama_data = fetch_from_other_source(llama_url)\n",
        "\n",
        "for exchange in llama_data:\n",
        "    # Extract the name from the exchange data\n",
        "    url = exchange['url']\n",
        "    # print(exchange)\n",
        "    # Append the name to the list\n",
        "    crypto_data_urls.append(url)\n",
        "\n",
        "# Print the total number of exchanges fetched\n",
        "print(f\"Total exchanges fetched: {len(llama_data)}, {llama_data[0]}\")"
      ]
    },
    {
      "cell_type": "code",
      "execution_count": null,
      "metadata": {
        "id": "YC-gEGVyezP3"
      },
      "outputs": [],
      "source": [
        "# coinmarketcap_data = fetch_from_coin_marketcap()\n",
        "\n",
        "# for exchange in coinmarketcap_data:\n",
        "#     # Extract the name from the exchange data\n",
        "#     name = exchange['name']\n",
        "#     # Append the name to the list\n",
        "#     crypto_data_names.append(name)\n",
        "\n",
        "# # Print the total number of exchanges fetched\n",
        "# print(f\"Total exchanges fetched: {len(coinmarketcap_data)}, {coinmarketcap_data[0]}\")"
      ]
    },
    {
      "cell_type": "code",
      "source": [
        "crypto_data_urls = [item for sublist in crypto_data_urls for item in (sublist if isinstance(sublist, list) else [sublist])]\n",
        "crypto_data_urls = [url for url in crypto_data_urls if url != '']\n",
        "crypto_data_urls = set(crypto_data_urls)\n",
        "crypto_data_urls = list(crypto_data_urls)"
      ],
      "metadata": {
        "id": "iT95-P7KzlM1"
      },
      "execution_count": null,
      "outputs": []
    },
    {
      "cell_type": "markdown",
      "source": [],
      "metadata": {
        "id": "A-hMZBqx3C1z"
      }
    },
    {
      "cell_type": "code",
      "execution_count": null,
      "metadata": {
        "id": "yFCoK3RZezQJ"
      },
      "outputs": [],
      "source": [
        "# fetch other legitimate websites asides crypto\n",
        "# other_websites = \"https://raw.githubusercontent.com/seigdev/resources/refs/heads/main/top-websites.csv\"\n",
        "\n",
        "# other_raw = fetch_data_csv(other_websites)\n",
        "\n",
        "# others_df = pd.DataFrame(other_raw)\n",
        "\n",
        "# others_df = others_df.drop(columns=0)\n",
        "\n",
        "# others_df = others_df.rename(columns={1: 'url'})"
      ]
    },
    {
      "cell_type": "code",
      "execution_count": null,
      "metadata": {
        "id": "c2fOwZsrezQP"
      },
      "outputs": [],
      "source": [
        "# df_raw = pd.read_json(\"legit-exchanges.json\")\n",
        "\n",
        "# # copy the name and urls columns to a new dataframe\n",
        "# crypto_df = df_raw[['url']].copy()\n",
        "\n",
        "# crypto_df[\"url\"]  = crypto_df[\"url\"].apply(format_domain)\n",
        "\n",
        "# coinmarketcap_df = coinmarketcap_df[[\"url\"]].copy()\n",
        "\n",
        "# legit_df = pd.concat([crypto_df, coinmarketcap_df], ignore_index=True)\n",
        "\n",
        "# # assign string labels to legitimate urls\n",
        "# legit_df.loc[:, 'label'] = 'legit'\n",
        "\n",
        "# # assign string labels to legitimate urls\n",
        "# legit_df.loc[:, 'label_no'] = 0\n",
        "\n",
        "# # select first 100\n",
        "# legit_df = legit_df[:11000]\n",
        "\n",
        "# # keep only the first occurrence\n",
        "# legit_df = legit_df.drop_duplicates(subset=\"url\", keep=\"first\")\n",
        "\n",
        "# legit_df"
      ]
    },
    {
      "cell_type": "markdown",
      "metadata": {
        "id": "EQQR8nf-ezQQ"
      },
      "source": [
        "#### FETCH SCAM URLS DATA"
      ]
    },
    {
      "cell_type": "code",
      "execution_count": null,
      "metadata": {
        "id": "gBxHpo6AezQR"
      },
      "outputs": [],
      "source": [
        "# # url to fetch scam urls from eth-phishing-detect\n",
        "# scam_url = \"https://raw.githubusercontent.com/MetaMask/eth-phishing-detect/master/src/config.json\"\n",
        "# scam_ex = fetch_from_other_source(scam_url)\n",
        "\n",
        "# # fetch the list of blacklist urls\n",
        "# blacklist = scam_ex[\"blacklist\"]\n",
        "\n",
        "# # convert the blacklist to a dictionary\n",
        "# blacklist = convert_to_dict(blacklist)"
      ]
    },
    {
      "cell_type": "code",
      "execution_count": null,
      "metadata": {
        "id": "Qphm0faRezQS"
      },
      "outputs": [],
      "source": [
        "# with open(\"scam-exchanges.json\", \"w\") as file:\n",
        "#     json.dump(blacklist, file)\n",
        "\n",
        "# blacklist_raw = pd.read_json(\"scam-exchanges.json\")\n",
        "\n",
        "# # copy the name and urls columns to a new dataframe\n",
        "# scam_df = blacklist_raw[['url']].copy()\n",
        "\n",
        "# scam_df[\"url\"] = scam_df[\"url\"].apply(format_domain)\n",
        "\n",
        "# # assign string labels to legitimate urls\n",
        "# scam_df.loc[:, 'label'] = 'scam'\n",
        "\n",
        "# # assign string labels to legitimate urls\n",
        "# scam_df.loc[:, 'label_no'] = 1\n",
        "\n",
        "# # select first 100\n",
        "# # scam_df = scam_df.sample(n=100000, random_state=42).reset_index(drop=True)\n",
        "# scam_df = scam_df[:50000]\n",
        "\n",
        "# scam_df"
      ]
    },
    {
      "cell_type": "code",
      "execution_count": null,
      "metadata": {
        "id": "5iHsAGDAezQT"
      },
      "outputs": [],
      "source": [
        "# # merge both the legit and scam urls together\n",
        "# urls_df = pd.concat([legit_df, scam_df], ignore_index=True)\n",
        "\n",
        "# # shuffle the urls across the dataframe\n",
        "# urls_df = urls_df.sample(frac=1, random_state=42).reset_index(drop=True)\n",
        "\n",
        "# urls_df"
      ]
    },
    {
      "cell_type": "code",
      "execution_count": null,
      "metadata": {
        "id": "12VaNBWlezQV"
      },
      "outputs": [],
      "source": [
        "# urls_df.to_json('crypto_data.json', orient='records', lines=False)"
      ]
    }
  ],
  "metadata": {
    "kernelspec": {
      "display_name": "Python 3",
      "name": "python3"
    },
    "language_info": {
      "codemirror_mode": {
        "name": "ipython",
        "version": 3
      },
      "file_extension": ".py",
      "mimetype": "text/x-python",
      "name": "python",
      "nbconvert_exporter": "python",
      "pygments_lexer": "ipython3",
      "version": "3.9.6"
    },
    "colab": {
      "provenance": []
    }
  },
  "nbformat": 4,
  "nbformat_minor": 0
}